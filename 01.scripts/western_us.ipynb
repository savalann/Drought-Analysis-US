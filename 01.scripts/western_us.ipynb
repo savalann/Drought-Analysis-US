{
 "cells": [
  {
   "cell_type": "raw",
   "source": [
    "\"\"\"\n",
    "# Drought Analysis Western US\n",
    "\n",
    "## Author\n",
    "Name: Savalan Naser Neisary\n",
    "Email: savalan.neisary@gmail.com | snaserneisary@crimson.ua.edu\n",
    "Affiliation: PhD Student, University of Alabama\n",
    "GitHub: savalann\n",
    "\n",
    "## Code Description\n",
    "Creation Date: 2023-03-24\n",
    "This notebook will use the codes to analyze drought in the Western US. \n",
    "\n",
    "## License\n",
    "This software is licensed under the Apache License 2.0. See the LICENSE file for more details.\n",
    "\"\"\""
   ],
   "metadata": {
    "collapsed": false
   },
   "id": "fed149333efcadc4"
  },
  {
   "cell_type": "code",
   "outputs": [],
   "source": [
    "# %% import libraries\n",
    "# savvy: import my own libraries\n",
    "from station_statics import study_area_stations\n",
    "\n",
    "# savvy: Import basic libraries\n",
    "from tqdm import tqdm\n",
    "import numpy as np\n",
    "import datetime\n",
    "import pandas as pd\n",
    "import glob\n",
    "import os\n",
    "import platform\n",
    "from datetime import datetime\n",
    "import matplotlib.pyplot as plt\n",
    "\n",
    "#import hydrology packages\n",
    "from hydrotools.nwm_client import utils"
   ],
   "metadata": {
    "collapsed": false,
    "ExecuteTime": {
     "end_time": "2024-03-25T02:04:47.553453Z",
     "start_time": "2024-03-25T02:04:46.387610Z"
    }
   },
   "id": "95811006f4ff0b3e",
   "execution_count": 1
  },
  {
   "cell_type": "code",
   "outputs": [],
   "source": [
    "path_01 = os.getcwd()\n",
    "input_path_general = path_01.replace('01.scripts', '02.inputs/')\n",
    "output_path_general = path_01.replace('01.scripts', '03.outputs/')\n",
    "if platform.system() == 'Windows':\n",
    "    input_path_usgs_data = 'E:/OneDrive/OneDrive - The University of Alabama/10.material/01.data/usgs_data/'\n",
    "elif platform.system() == 'Darwin':\n",
    "    input_path_usgs_data = '/Users/savalan/Library/CloudStorage/OneDrive-TheUniversityofAlabama/10.material/01.data/usgs_data/'\n",
    "else:\n",
    "    input_path_usgs_data = None"
   ],
   "metadata": {
    "collapsed": false,
    "ExecuteTime": {
     "end_time": "2024-03-25T02:04:47.557818Z",
     "start_time": "2024-03-25T02:04:47.554464Z"
    }
   },
   "id": "16d7bb90f73e3a03",
   "execution_count": 2
  },
  {
   "cell_type": "code",
   "outputs": [
    {
     "name": "stderr",
     "output_type": "stream",
     "text": [
      "100%|██████████| 4/4 [01:14<00:00, 18.65s/it]\n"
     ]
    }
   ],
   "source": [
    "state_list = ['wy', 'ut', 'az', 'co']\n",
    "end_year = 2020\n",
    "data_length = 41\n",
    "start_year = end_year - data_length + 1\n",
    "huc_2 = 14\n",
    "state_station_list = {}\n",
    "temp_df = []\n",
    "for state in tqdm(state_list):\n",
    "    state_station_all = study_area_stations(state, start_year, end_year, huc_2, input_path_usgs_data)\n",
    "    temp_df.append(state_station_all)\n",
    "    state_station_all.to_csv(f'{output_path_general}final_stations_{state}.csv', index=False)\n",
    "all_station_info_modified = pd.concat(temp_df, ignore_index=True)\n",
    "all_station_info_modified.to_csv(f'{output_path_general}final_stations_all.csv', index=False)\n",
    "data_df_modified = all_station_info_modified[(all_station_info_modified['missing_value_percent']\n",
    "                                              <= 10)].reset_index(drop=True)\n",
    "data_df_modified.reset_index(drop=True).to_csv(f'{output_path_general}final_modified.csv', index=False)"
   ],
   "metadata": {
    "collapsed": false,
    "ExecuteTime": {
     "end_time": "2024-03-25T02:13:20.956942Z",
     "start_time": "2024-03-25T02:12:06.324811Z"
    }
   },
   "id": "73c359fb8e4b5a5e",
   "execution_count": 4
  },
  {
   "cell_type": "code",
   "outputs": [],
   "source": [],
   "metadata": {
    "collapsed": false,
    "ExecuteTime": {
     "end_time": "2024-03-25T02:01:29.293581Z",
     "start_time": "2024-03-25T02:01:29.293581Z"
    }
   },
   "id": "b498289233f6965b",
   "execution_count": null
  },
  {
   "cell_type": "code",
   "outputs": [],
   "source": [],
   "metadata": {
    "collapsed": false
   },
   "id": "e45bdebaa595de5e"
  },
  {
   "cell_type": "code",
   "outputs": [],
   "source": [],
   "metadata": {
    "collapsed": false
   },
   "id": "23e6b0564a4679bb"
  }
 ],
 "metadata": {
  "kernelspec": {
   "display_name": "Python 3",
   "language": "python",
   "name": "python3"
  },
  "language_info": {
   "codemirror_mode": {
    "name": "ipython",
    "version": 2
   },
   "file_extension": ".py",
   "mimetype": "text/x-python",
   "name": "python",
   "nbconvert_exporter": "python",
   "pygments_lexer": "ipython2",
   "version": "2.7.6"
  }
 },
 "nbformat": 4,
 "nbformat_minor": 5
}
