{
 "cells": [
  {
   "cell_type": "raw",
   "source": [
    "\"\"\"\n",
    "# Drought Analysis Western US\n",
    "\n",
    "## Author\n",
    "Name: Savalan Naser Neisary\n",
    "Email: savalan.neisary@gmail.com | snaserneisary@crimson.ua.edu\n",
    "Affiliation: PhD Student, University of Alabama\n",
    "GitHub: savalann\n",
    "\n",
    "## Code Description\n",
    "Creation Date: 2023-03-24\n",
    "This notebook will use the codes to analyze drought in the Western US. \n",
    "\n",
    "## License\n",
    "This software is licensed under the Apache License 2.0. See the LICENSE file for more details.\n",
    "\"\"\""
   ],
   "metadata": {
    "collapsed": false
   },
   "id": "fed149333efcadc4"
  },
  {
   "cell_type": "code",
   "outputs": [],
   "source": [
    "# %% import libraries\n",
    "# savvy: import my own libraries\n",
    "from station_statics import study_area_stations\n",
    "from pyndat import Pyndat\n",
    "\n",
    "# savvy: Import basic libraries\n",
    "from tqdm import tqdm\n",
    "import pandas as pd\n",
    "import os\n",
    "import platform\n",
    "\n"
   ],
   "metadata": {
    "collapsed": false,
    "ExecuteTime": {
     "end_time": "2024-03-25T23:34:40.870723Z",
     "start_time": "2024-03-25T23:34:40.809631Z"
    }
   },
   "id": "95811006f4ff0b3e",
   "execution_count": 7
  },
  {
   "cell_type": "code",
   "outputs": [],
   "source": [
    "# %% Specify the path to inputs and outputs\n",
    "path_01 = os.getcwd() # savvy: Get the current working directory\n",
    "input_path_general = path_01.replace('01.scripts', '02.inputs/') # savvy: set the path for input data. \n",
    "output_path_general = path_01.replace('01.scripts', '03.outputs/') # savvy: Set the path for output data. \n",
    "if platform.system() == 'Windows': # savvy: Check if the operating system is Windows.\n",
    "    \n",
    "    # savvy: Set the path for USGS data specifically for Windows.\n",
    "    input_path_usgs_data = 'E:/OneDrive/OneDrive - The University of Alabama/10.material/01.data/usgs_data/'\n",
    "elif platform.system() == 'Darwin': # savvy: Check if the operating system is Darwin (macOS).\n",
    "    \n",
    "    # savvy: Set the path for USGS data specifically for macOS.\n",
    "    input_path_usgs_data = '/Users/savalan/Library/CloudStorage/OneDrive-TheUniversityofAlabama/10.material/01.data/usgs_data/'\n",
    "else:\n",
    "    # savvy: Set the path for USGS data to None if the operating system is neither Windows nor macOS.\n",
    "    input_path_usgs_data = None\n"
   ],
   "metadata": {
    "collapsed": false,
    "ExecuteTime": {
     "end_time": "2024-03-25T22:49:57.895727Z",
     "start_time": "2024-03-25T22:49:57.890229Z"
    }
   },
   "id": "16d7bb90f73e3a03",
   "execution_count": 2
  },
  {
   "cell_type": "code",
   "outputs": [
    {
     "name": "stderr",
     "output_type": "stream",
     "text": [
      "100%|██████████| 4/4 [01:12<00:00, 18.11s/it]\n"
     ]
    }
   ],
   "source": [
    "state_list = ['wy', 'ut', 'az', 'co']\n",
    "end_year = 2020\n",
    "data_length = 31\n",
    "start_year = end_year - data_length + 1\n",
    "huc_2 = 14\n",
    "state_station_list = {}\n",
    "temp_df = []\n",
    "for state in tqdm(state_list):\n",
    "    state_station_all = study_area_stations(state, start_year, end_year, huc_2, input_path_usgs_data)  \n",
    "    temp_df.append(state_station_all)\n",
    "    state_station_all.to_csv(f'{output_path_general}final_stations_{state}.csv', index=False)\n",
    "all_station_info_modified = pd.concat(temp_df, ignore_index=True)\n",
    "all_station_info_modified.to_csv(f'{output_path_general}final_stations_all.csv', index=False)\n",
    "data_df_modified = all_station_info_modified[(all_station_info_modified['missing_value_percent']\n",
    "                                              <= 10)].reset_index(drop=True)\n",
    "data_df_modified.reset_index(drop=True).to_csv(f'{output_path_general}final_modified_{data_length}.csv', index=False)"
   ],
   "metadata": {
    "collapsed": false,
    "ExecuteTime": {
     "end_time": "2024-03-25T22:51:10.346204Z",
     "start_time": "2024-03-25T22:49:57.896733Z"
    }
   },
   "id": "73c359fb8e4b5a5e",
   "execution_count": 3
  },
  {
   "cell_type": "code",
   "outputs": [
    {
     "name": "stderr",
     "output_type": "stream",
     "text": [
      "100%|██████████| 150/150 [03:39<00:00,  1.46s/it]\n"
     ]
    }
   ],
   "source": [
    "for station_num in tqdm(data_df_modified.station):\n",
    "    station_data = Pyndat.daily_data(site=f'0{int(station_num)}')\n",
    "    station_data.to_csv(f'{output_path_general}usgs_data/0{int(station_num)}.csv', index=False)"
   ],
   "metadata": {
    "collapsed": false,
    "ExecuteTime": {
     "end_time": "2024-03-25T23:46:47.025548Z",
     "start_time": "2024-03-25T23:43:07.472986Z"
    }
   },
   "id": "b498289233f6965b",
   "execution_count": 25
  },
  {
   "cell_type": "code",
   "outputs": [],
   "source": [],
   "metadata": {
    "collapsed": false
   },
   "id": "be0450c7bf3b4428"
  },
  {
   "cell_type": "code",
   "outputs": [],
   "source": [],
   "metadata": {
    "collapsed": false
   },
   "id": "736a629c5693c3a7"
  },
  {
   "cell_type": "code",
   "outputs": [],
   "source": [],
   "metadata": {
    "collapsed": false
   },
   "id": "c994524e97773935"
  },
  {
   "cell_type": "code",
   "outputs": [],
   "source": [],
   "metadata": {
    "collapsed": false
   },
   "id": "3254938665c4d1df"
  }
 ],
 "metadata": {
  "kernelspec": {
   "display_name": "Python 3",
   "language": "python",
   "name": "python3"
  },
  "language_info": {
   "codemirror_mode": {
    "name": "ipython",
    "version": 2
   },
   "file_extension": ".py",
   "mimetype": "text/x-python",
   "name": "python",
   "nbconvert_exporter": "python",
   "pygments_lexer": "ipython2",
   "version": "2.7.6"
  }
 },
 "nbformat": 4,
 "nbformat_minor": 5
}
